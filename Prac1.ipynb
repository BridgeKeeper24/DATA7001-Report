{
 "cells": [
  {
   "cell_type": "markdown",
   "metadata": {},
   "source": [
    "# Introduction to R"
   ]
  },
  {
   "cell_type": "markdown",
   "metadata": {},
   "source": [
    "## Overview"
   ]
  },
  {
   "cell_type": "markdown",
   "metadata": {},
   "source": [
    "R is one of the most widely used open source tool for statistical computing. It has a huge community support, and a large number of packages have been contributed by the community.\n",
    "\n",
    "This Prac is aimed to teach the basics of R, which will serve as foundation for the future Pracs. The topics of R covered in this pracs include the following\n",
    "* data structures\n",
    "* filtering and data quality operations\n",
    "* loops and conditional statements\n",
    "* commonly used statistical functions\n",
    "* basic plotting"
   ]
  },
  {
   "cell_type": "markdown",
   "metadata": {},
   "source": [
    "## Instructions\n",
    "<strong> This Prac is assessed, and the tasks are based on the demos taken during lab / lecture / tutorial and their materials. </strong>\n",
    "\n",
    "Complete the tasks given. \n",
    "* <strong>Please note that your code will be re-executed on new dataset files during marking. The new dataset will have the same \"Column Name\" as that of the current dataset - but the order of the columns can be different. Also the rows, and number of rows will change. Your code should give the correct answer for the new datasets as well. <u>So please don't hard-code the answers / row indexes / column indexes.</u> To reference a column you can use the column names instead of column index.</strong>\n",
    "\n",
    "* <strong>Make sure the R script submitted has no syntactical error, in which case a zero will be awarded for this Prac. Tutors will direct you on how to identify syntactical errors in your script.</strong>\n",
    "\n",
    "Additional Note\n",
    "* Variable names and strings are case-sensitive in R\n",
    "* Use of any packages to achieve the objective is strictly prohibited - unless explicitly mentioned in the question to do so\n",
    "* Any updates regarding the Pracs will be posted on <strong>Piazza</strong>\n",
    "* Your code will be tested on Version 4.x.x of R"
   ]
  },
  {
   "cell_type": "markdown",
   "metadata": {},
   "source": [
    "## Submission\n",
    "After completing the tasks, download the notebook as an R file to your local system. This can be done by \"File > Download as > R\". Rename the downloaded R file with your \"UQ Login-id\" - for example, `s4477608.r`\n",
    "* Upload the downloaded file to jupyter in the same folder as that of this notebook, that is, inside \"Prac1\" folder.\n",
    "* Submit the downloaded file to BB\n",
    "\n",
    "<strong> The R file uploaded to jupyter will be assessed automatically. So, it is very important to upload the R file to the correct location in jupyter, with the correct name ( as mentioned above ) - failing to which 0 will be awarded for this Prac. </strong>"
   ]
  },
  {
   "cell_type": "markdown",
   "metadata": {},
   "source": [
    "## 1. Data Quality \n",
    "Imported data would contain multiple inconsistencies and quality issues. The following tasks aims to provide an example of some of the inconsistencies and quality issues.\n"
   ]
  },
  {
   "cell_type": "markdown",
   "metadata": {},
   "source": [
    "Data can be imported from multiple sources like CSV, JSON, Relational Database, and so on. We will be dealing with simple CSV files. Below is shown a Sample Task, and sample solution to import a csv file."
   ]
  },
  {
   "cell_type": "markdown",
   "metadata": {},
   "source": [
    "|<center> Sample TASK - 1</center>|\n",
    "| ---- |\n",
    "| Import data from \"unclean1.csv\" using `read.csv` function. Store the data into a variable called \"unclean1\". <br>Import data from \"iris1.csv\" into a variable called \"d1\". First row of \"iris1.csv\" is the column header of \"d1\" dataframe (Use `header` argument of `read.csv` to assign the same). <br> String columns should NOT be imported as factors for both the cases (use `stringsAsFactors` argument of `read.csv` to achieve the same). |"
   ]
  },
  {
   "cell_type": "code",
   "execution_count": null,
   "metadata": {},
   "outputs": [],
   "source": [
    "# Place your answer here (Sample Solution)\n",
    "unclean1 = read.csv(\"datasets/unclean1.csv\", header=FALSE, stringsAsFactors=FALSE)\n",
    "d1 = read.csv(\"datasets/iris1.csv\", header=TRUE, stringsAsFactors=FALSE)"
   ]
  },
  {
   "cell_type": "markdown",
   "metadata": {},
   "source": [
    "### Data Inconsistency"
   ]
  },
  {
   "cell_type": "markdown",
   "metadata": {},
   "source": [
    "|<center>TASK</center>|\n",
    "| ---- |\n",
    "| Make a copy of \"unclean1\" dataframe, and name it \"clean1\". <br> The last row of \"clean1\" dataframe contains the column header. Assign \"clean1\" column header using its last row, and also remove its last row (from the \"clean1\" data frame). <br> Reminder: please don't hard-code the row number of the last row. |"
   ]
  },
  {
   "cell_type": "code",
   "execution_count": null,
   "metadata": {},
   "outputs": [],
   "source": [
    "# Place your answer here\n",
    "clean1 = data.frame(unclean1) # Creates copy of \"unclean1\" dataframe\n",
    "colnames(clean1) = tail(clean1,1) # Assigns \"clean1\" headers using last row\n",
    "clean1 = head(clean1,-1) # Removes last row by keeping all rows but -1 row which is the last row"
   ]
  },
  {
   "cell_type": "markdown",
   "metadata": {},
   "source": [
    "### Data Type Mismatch\n",
    "When the data is imported the data types assigned by default might not completely match the underlying data. \n",
    "You can check the structure of the data using `str` function, and assign the correct data types using functions like `as.numeric`, `as.character`, `as.factor`, `as.integer`, ..."
   ]
  },
  {
   "cell_type": "markdown",
   "metadata": {},
   "source": [
    "|<center>TASK</center>|\n",
    "| ---- |\n",
    "| Make a copy of \"clean1\" data frame, and name it \"datatype1\". Sepal.Length, Sepal.Width, Petal.Length, Petal.Width columns should be of type numeric, and Species column should be of type character. Check if the columns of \"datatype1\" match their respective data types, fix the same if not correct.  |"
   ]
  },
  {
   "cell_type": "code",
   "execution_count": 2,
   "metadata": {},
   "outputs": [
    {
     "ename": "ERROR",
     "evalue": "Error in str(datatype1): object 'datatype1' not found\n",
     "output_type": "error",
     "traceback": [
      "Error in str(datatype1): object 'datatype1' not found\nTraceback:\n",
      "1. str(datatype1)"
     ]
    }
   ],
   "source": [
    "# Place your answer here\n",
    "datatype1 = data.frame(clean1) # Make copy of \"clean1\" named \"datatype1\"\n",
    "str(datatype1) # Check data types of coloumns\n",
    "datatype1[1:4] = lapply(datatype1[1:4],as.numeric) # Coerce data from columns 1-4 to be data type numeric\n",
    "str(datatype1) # Check data types are correct\n",
    "\n",
    "# Alternatively\n",
    "str(datatype1) # Check data types of coloumns\n",
    "datatype1$Sepal.Length = as.numeric(datatype1$Sepal.Length)\n",
    "datatype1$Sepal.Width = as.numeric(datatype1$Sepal.Width)\n",
    "datatype1$Petal.Length = as.numeric(datatype1$Petal.Length)\n",
    "datatype1$Petal.Width = as.numeric(datatype1$Petal.Width)"
   ]
  },
  {
   "cell_type": "markdown",
   "metadata": {},
   "source": [
    "### Handling NA's for Arithmetic Operation\n",
    "Arithmetic operations such as mean/sum might not perform as expected when the underlying data has missing values. There are many ways to handle missingness, and ignoring the NA's is one of the method."
   ]
  },
  {
   "cell_type": "markdown",
   "metadata": {},
   "source": [
    "|<center>TASK</center>|\n",
    "| ---- |\n",
    "| Find the mean of \"Petal.Width\" column of \"datatype1\". Note: consider using `na.rm` parameter of mean function to handle the NA's of this column. Store the result inside \"mean_narm\" |"
   ]
  },
  {
   "cell_type": "code",
   "execution_count": null,
   "metadata": {},
   "outputs": [],
   "source": [
    "# Place your answer here\n",
    "mean_narm = mean(datatype1$Petal.Width, na.rm=TRUE)"
   ]
  },
  {
   "cell_type": "markdown",
   "metadata": {},
   "source": [
    "### Data Missingness\n",
    "There are many kind of missingness defined in R. Most common of those are `NA`, `NULL`, and `empty strings`. "
   ]
  },
  {
   "cell_type": "markdown",
   "metadata": {},
   "source": [
    "|<center>TASK</center>|\n",
    "| ---- |\n",
    "| Make a copy of \"datatype1\" data frame, and name it \"clean2\". Remove rows of \"clean2\" which contains missing values (NA, empty strings) in any of its columns. |"
   ]
  },
  {
   "cell_type": "code",
   "execution_count": null,
   "metadata": {},
   "outputs": [],
   "source": [
    "# Place your answer here\n",
    "clean2 = data.frame(datatype1) # Make copy of \"datatype1\" named \"clean2\" \n",
    "clean2[clean2==\"\"] = NA # Converts empty strings to NA\n",
    "clean2 = na.omit(clean2) # Removes all rows which include NA"
   ]
  },
  {
   "cell_type": "markdown",
   "metadata": {},
   "source": [
    "### Combining Data From JSON and CSV\n",
    "In most situations, data needs to be combined from various sources like CSV, json, ... You can combine data frames loaded from different sources using `rbind` function, provided they have the same structure."
   ]
  },
  {
   "cell_type": "markdown",
   "metadata": {},
   "source": [
    "|<center>TASK</center>|\n",
    "| ---- |\n",
    "| Combine contents of \"iris3.json\" and \"iris4.csv\" using `rbind` function, and store the resultant dataframe inside \"rbind1\". <br> Import `JSON` data using `read_json` function of `jsonlite` package. Use `simplifyVector` argument of `read_json` function to read json correctly as a dataframe |"
   ]
  },
  {
   "cell_type": "code",
   "execution_count": null,
   "metadata": {},
   "outputs": [],
   "source": [
    "# Place your answer here\n",
    "iris3 = jsonlite::read_json(\"datasets/iris3.json\", simplifyVector=TRUE) # Load data from json file as \"iris3\"\n",
    "iris4 = read.csv(\"datasets/iris4.csv\", header=TRUE, stringsAsFactors=FALSE) # Load data from csv file as \"iris4\"\n",
    "rbind1 = rbind(iris3, iris4) # Combine data frames \"iris3\" and \"iris4\""
   ]
  },
  {
   "cell_type": "markdown",
   "metadata": {},
   "source": [
    "### Filtering Data"
   ]
  },
  {
   "cell_type": "markdown",
   "metadata": {},
   "source": [
    "|<center>TASK</center>|\n",
    "| ---- |\n",
    "| Store the first 5 rows and the last 10 rows of \"d1\" inside \"select1\"|"
   ]
  },
  {
   "cell_type": "code",
   "execution_count": null,
   "metadata": {},
   "outputs": [],
   "source": [
    "# Place your answer here\n",
    "select1 = rbind(head(d1,5),tail(d1,10))"
   ]
  },
  {
   "cell_type": "markdown",
   "metadata": {},
   "source": [
    "|<center>TASK</center>|\n",
    "| ---- |\n",
    "| Make a copy of \"d1\" data frame, and name it \"select2\". Remove all rows of \"select2\" whose Species is versicolor. |"
   ]
  },
  {
   "cell_type": "code",
   "execution_count": null,
   "metadata": {},
   "outputs": [],
   "source": [
    "# Place your answer here\n",
    "select2 = data.frame(d1)\n",
    "select2 = select2[!grepl(\"versicolor\", select2$Species), ] # Uses the grepl function to keep all rows not containing versicolor in Species coloumn\n",
    "\n",
    "# Alternatively and less accurately since grep search string for matches not just whole strings we can do\n",
    "select2 = select2[select2$Species!=\"versicolor\", ]"
   ]
  },
  {
   "cell_type": "markdown",
   "metadata": {},
   "source": [
    "|<center>TASK</center>|\n",
    "| ---- |\n",
    "| Make a copy of \"d1\" data frame, and name it \"select3\". Set \"Petal.Length\" column values of \"select3\" data frame to 0 whose Species is setosa. |"
   ]
  },
  {
   "cell_type": "code",
   "execution_count": null,
   "metadata": {},
   "outputs": [],
   "source": [
    "# Place your answer here\n",
    "select3 = data.frame(d1)\n",
    "select3$Petal.Length = replace(select3$Petal.Length, grep(\"setosa\",select3$Species),0) # Use the replace function to change all Petal Length, whose Species is setosa, to 0"
   ]
  },
  {
   "cell_type": "markdown",
   "metadata": {},
   "source": [
    "## 2. Factors\n",
    "All categorical features should be stored as `factor` in R. Each category should be a `level` of that factor."
   ]
  },
  {
   "cell_type": "markdown",
   "metadata": {},
   "source": [
    "|<center>TASK</center>|\n",
    "| ---- |\n",
    "| Given that there are 3 distinct species of iris - \"setosa\", \"versicolor\", \"virginica\", find the count of occurrence of each Species in \"select2\" using `table` function. Store the resultant count inside \"count1\" vector. Name of each element of the vector should be its corresponding Species. Hint: you have to convert the column into `factor` and mention the `levels` before you perform the count. |"
   ]
  },
  {
   "cell_type": "code",
   "execution_count": null,
   "metadata": {},
   "outputs": [],
   "source": [
    "# Place your answer here\n",
    "select2$Species = as.factor(select2$Species) # Convert \"Species\" coloumn to factor with levels setosa and virginica\n",
    "count1 = table(select2$Species) # Table tallies all the counts of each level to give us the occurrence of each Species "
   ]
  },
  {
   "cell_type": "markdown",
   "metadata": {},
   "source": [
    "## 3. User Defined Function"
   ]
  },
  {
   "cell_type": "markdown",
   "metadata": {},
   "source": [
    "User-Defined function can be used to create functions which can perform custom operation."
   ]
  },
  {
   "cell_type": "markdown",
   "metadata": {},
   "source": [
    "|<center>TASK</center>|\n",
    "| ---- |\n",
    "| Create a function called \"fun1\" which takes 2 square matrices as input parameters (x1,x2). The function should return the sum of determinant of the matrices. Note: you DONT have to check if \"x1\" and \"x2\" are square matrices|"
   ]
  },
  {
   "cell_type": "code",
   "execution_count": null,
   "metadata": {},
   "outputs": [],
   "source": [
    "# Place your answer here\n",
    "fun1 <- function(x1,x2){\n",
    "  return(det(x1)+det(x2)) # Simply returns sum of the two determinates, nothing fancy\n",
    "}"
   ]
  },
  {
   "cell_type": "markdown",
   "metadata": {},
   "source": [
    "## 4. Common/Important Functions and Operations "
   ]
  },
  {
   "cell_type": "markdown",
   "metadata": {},
   "source": [
    "### Basic Arithmetic Operation"
   ]
  },
  {
   "cell_type": "markdown",
   "metadata": {},
   "source": [
    "|<center>TASK</center>|\n",
    "| ---- |\n",
    "| Find the sum of \"Petal.Length\" column of \"d1\". Store the result inside vector \"sum1\" vector |"
   ]
  },
  {
   "cell_type": "code",
   "execution_count": null,
   "metadata": {},
   "outputs": [],
   "source": [
    "# Place your answer here\n",
    "sum1 = sum(d1$Petal.Length) # Uses the sum function to sum over column, we have left na.rm as FALSE by default since there are no NA"
   ]
  },
  {
   "cell_type": "markdown",
   "metadata": {},
   "source": [
    "### Apply Function\n",
    "Apply function can be used to perform operations on rows / columns of data frame or matrices"
   ]
  },
  {
   "cell_type": "markdown",
   "metadata": {},
   "source": [
    "|<center>TASK</center>|\n",
    "| ---- |\n",
    "| Find the \"sum/median\" (SUM divided by MEDIAN) of all the numeric columns of \"d1\" using `apply` function. Store the result inside \"apply1\". Note: you have to use `is.numeric` to find if a column is numeric or not. |"
   ]
  },
  {
   "cell_type": "code",
   "execution_count": null,
   "metadata": {},
   "outputs": [],
   "source": [
    "# Place your answer here\n",
    "apply1 = apply(d1[sapply(d1,is.numeric)],2,sum)/apply(d1[sapply(d1,is.numeric)],2,mean) # sapply(d1,is.numeric) tests if columns are numeric, then we apply sum, and apply mean, and divide them both \n",
    "\n",
    "# The other way of doing this would be to define a function which combines sum/median"
   ]
  },
  {
   "cell_type": "markdown",
   "metadata": {},
   "source": [
    "### Aggregate Function\n",
    "Aggregate function proves useful when we want to perform aggregation on each and every categories of data. \n"
   ]
  },
  {
   "cell_type": "markdown",
   "metadata": {},
   "source": [
    "|<center>TASK</center>|\n",
    "| ---- |\n",
    "| Find the sum of \"Petal.Length\",\"Petal.Width\", \"Sepal.Length\", \"Sepal.Width\" of \"d1\" for each Species using `aggregate` function. The result should be a data frame where the column name are the names of numeric columns of \"d1\" and the row names are the names of the Species. Store the result inside \"agg1\" |"
   ]
  },
  {
   "cell_type": "code",
   "execution_count": null,
   "metadata": {},
   "outputs": [],
   "source": [
    "# Place your answer here\n",
    "agg1 = aggregate(d1[sapply(d1,is.numeric)], list(d1$Species),sum) # Important here we convert d1$Species to a list"
   ]
  },
  {
   "cell_type": "markdown",
   "metadata": {},
   "source": [
    "|<center>TASK</center>|\n",
    "| ---- |\n",
    "| Load \"script1.R\" using `source` function.<strong> You will be making use of the objects created inside this script in subsequent tasks. Please note that the contents of the objects inside this script will be changed during marking. So please dont hard code your answers.</strong>  |"
   ]
  },
  {
   "cell_type": "code",
   "execution_count": null,
   "metadata": {},
   "outputs": [],
   "source": [
    "# Place your answer here\n",
    "source(\"script.R\") # Loads \"script.R\""
   ]
  },
  {
   "cell_type": "markdown",
   "metadata": {},
   "source": [
    "## 5. Lists\n",
    "\n",
    "List can store any type of objects inside it. It is mainly used to return multiple objects from a function."
   ]
  },
  {
   "cell_type": "markdown",
   "metadata": {},
   "source": [
    "|<center>TASK</center>|\n",
    "| ---- |\n",
    "| Create a function called \"fun2\" which takes 2 matrix as input parameters (x1,x2). It should return a list where the 1st element of list is the first matrix, 2nd element of the list is the 2nd matrix, 3rd element of the list is the vector which contain the sum of determinant of the two matrices.  |"
   ]
  },
  {
   "cell_type": "code",
   "execution_count": null,
   "metadata": {},
   "outputs": [],
   "source": [
    "# Place your answer here\n",
    "fun2 <- function(x1,x2) {\n",
    "  return(list(x1,x2,fun1(x1,x2))) # Makes use of fun1 defined above which sums the determinate of two 2x2 matrices\n",
    "}"
   ]
  },
  {
   "cell_type": "markdown",
   "metadata": {},
   "source": [
    "### lapply & sapply\n",
    "lapply and sapply can be used to iterate through elements of the list to perform some operation."
   ]
  },
  {
   "cell_type": "markdown",
   "metadata": {},
   "source": [
    "|<center>TASK</center>|\n",
    "| ---- |\n",
    "| Find the sum of determinant of matrices present inside the \"list1\" (loaded from \"script1.R\") using `lapply`. Store the result inside \"lapply1\" vector. <br> Perform the same operation using `sapply` and store the result inside \"sapply1\" vector. <br> Note: you have to check if an element of \"list1\" is matrix or not. That is, \"list1\" might contain 10 elements, but only 4 of them might be a matrix, which needs to be checked. |"
   ]
  },
  {
   "cell_type": "code",
   "execution_count": null,
   "metadata": {},
   "outputs": [],
   "source": [
    "# Place your answer here\n"
   ]
  },
  {
   "cell_type": "markdown",
   "metadata": {},
   "source": [
    "## 6. Loops\n",
    "\n",
    "Loops can be used to \n",
    "* execute tasks \"n\" number of times\n",
    "* iterate through elements of an object\n",
    "* and so on"
   ]
  },
  {
   "cell_type": "markdown",
   "metadata": {},
   "source": [
    "|<center>TASK</center>|\n",
    "| ---- |\n",
    "| Find the sum of determinant of matrices present inside the \"list1\" (loaded from \"script1.R\") using `for` loop. Store the result inside vector \"for1\". Perform the same operation using `while` loop. Store the result inside \"while1\" vector. Note: you have to check if an element of the list is matrix or not.  |"
   ]
  },
  {
   "cell_type": "code",
   "execution_count": null,
   "metadata": {},
   "outputs": [],
   "source": [
    "# Place your answer here\n"
   ]
  },
  {
   "cell_type": "markdown",
   "metadata": {},
   "source": [
    "## 7. Sampling"
   ]
  },
  {
   "cell_type": "markdown",
   "metadata": {},
   "source": [
    "Sampling is the process where only a subset of the data is selected for analysis. This may be due to\n",
    "* data being extremely large to process\n",
    "* challenges in collecting the entire data\n",
    "\n",
    "\n",
    "There are different types of sampling like\n",
    "* Simple Random Sampling\n",
    "* Weighted Sampling\n",
    "* Stratified Sampling\n",
    "* Systematic Sampling\n",
    "* ...\n",
    "\n",
    "Below tasks are based on sampling"
   ]
  },
  {
   "cell_type": "markdown",
   "metadata": {},
   "source": [
    "### Simple Random Sampling"
   ]
  },
  {
   "cell_type": "markdown",
   "metadata": {},
   "source": [
    "|<center>TASK</center>|\n",
    "| ---- |\n",
    "| Sample 80 rows `without replacement` from \"d1\". Store the result inside \"sample1\" data frame. Perform the same operation `with replacement` and store the result inside \"sample2\" data frame. Set the seed (using `set.seed` function) to 55 for both the cases. Note: perform sample operation using `sample` function  |"
   ]
  },
  {
   "cell_type": "code",
   "execution_count": null,
   "metadata": {},
   "outputs": [],
   "source": [
    "# Place your answer here\n"
   ]
  },
  {
   "cell_type": "markdown",
   "metadata": {},
   "source": [
    "### Weighted Sampling"
   ]
  },
  {
   "cell_type": "markdown",
   "metadata": {},
   "source": [
    "|<center>TASK</center>|\n",
    "| ---- |\n",
    "| Sample with replacement, 80 data points from \"d1\", such that versicolor data points have twice the weight as that of setosa, and virginica data points have twice the weight as that of versicolor. Combine the sampled rows inside \"sample3\" data frame. Set the seed to 55. Note: perform sample operation using `sample` function, and weights can be given using `prob` parameter of sample function |"
   ]
  },
  {
   "cell_type": "code",
   "execution_count": null,
   "metadata": {},
   "outputs": [],
   "source": [
    "# Place your answer here\n"
   ]
  },
  {
   "cell_type": "markdown",
   "metadata": {},
   "source": [
    "### Repeated Weighted Sampling"
   ]
  },
  {
   "cell_type": "markdown",
   "metadata": {},
   "source": [
    "|<center>TASK</center>|\n",
    "| ---- |\n",
    "| Perform the above weighted sampling for 100 iterations, finding the mean of \"Sepal.Length\" for each iteration. Store the means inside \"weighted_iterative\" vector. The seed for each iteration is the iteration number itself. |"
   ]
  },
  {
   "cell_type": "code",
   "execution_count": null,
   "metadata": {},
   "outputs": [],
   "source": [
    "# Place your answer here\n"
   ]
  },
  {
   "cell_type": "markdown",
   "metadata": {},
   "source": [
    "### Stratified Sampling"
   ]
  },
  {
   "cell_type": "markdown",
   "metadata": {},
   "source": [
    "|<center>TASK</center>|\n",
    "| ---- |\n",
    "| Sample with replacement - 10 values from each of the three Species of \"d1\" data. Store the sampled data inside \"stratified_setosa\", \"stratified_versicolor\", and \"stratified_virginica\" data frames respectively. Set the seed to 55 for sampling. Perform sample operation using `sample` function, and use `prob` parameter of sample function to sample from a particular species alone. Hint: all data points with a corresponding weight of 0 will not be sampled. |"
   ]
  },
  {
   "cell_type": "code",
   "execution_count": null,
   "metadata": {},
   "outputs": [],
   "source": [
    "# Place your answer here\n"
   ]
  },
  {
   "cell_type": "markdown",
   "metadata": {},
   "source": [
    "### Repeated Stratified Sampling"
   ]
  },
  {
   "cell_type": "markdown",
   "metadata": {},
   "source": [
    "|<center>TASK</center>|\n",
    "| ---- |\n",
    "| Perform the above stratified sampling for 100 iterations, finding the mean of \"Sepal.Length\" for each iteration - for each species. The seed for each iteration is the iteration number itself. Store the sampled means inside \"setosa_mean\", \"versicolor_mean\", \"virginica_mean\" vectors respectively. Note: after 100 iteratations, there will be 100 values in each of the  vectors |"
   ]
  },
  {
   "cell_type": "code",
   "execution_count": null,
   "metadata": {},
   "outputs": [],
   "source": [
    "# Place your answer here\n"
   ]
  },
  {
   "cell_type": "code",
   "execution_count": null,
   "metadata": {},
   "outputs": [],
   "source": []
  },
  {
   "cell_type": "code",
   "execution_count": null,
   "metadata": {},
   "outputs": [],
   "source": [
    "print(\"This Line gets printed if there is no major error, when Kernel -> Restart & Run All\")"
   ]
  }
 ],
 "metadata": {
  "kernelspec": {
   "display_name": "R",
   "language": "R",
   "name": "ir"
  },
  "language_info": {
   "codemirror_mode": "r",
   "file_extension": ".r",
   "mimetype": "text/x-r-source",
   "name": "R",
   "pygments_lexer": "r",
   "version": "4.0.4"
  }
 },
 "nbformat": 4,
 "nbformat_minor": 2
}
